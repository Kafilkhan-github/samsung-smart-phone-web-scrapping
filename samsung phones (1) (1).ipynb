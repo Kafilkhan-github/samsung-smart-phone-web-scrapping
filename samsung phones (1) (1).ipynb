{
 "cells": [
  {
   "cell_type": "code",
   "execution_count": 5,
   "id": "729ff5dc",
   "metadata": {},
   "outputs": [
    {
     "name": "stdout",
     "output_type": "stream",
     "text": [
      "24\n",
      "24\n",
      "24\n",
      "24\n",
      "24\n"
     ]
    }
   ],
   "source": [
    "import requests\n",
    "from bs4 import BeautifulSoup\n",
    "import pandas as pd\n",
    "url=\"https://www.flipkart.com/search?q=samsung+phone&sid=tyy%2C4io&as=on&as-show=on&otracker=AS_QueryStore_OrganicAutoSuggest_1_12_na_na_na&otracker1=AS_QueryStore_OrganicAutoSuggest_1_12_na_na_na&as-pos=1&as-type=RECENT&suggestionId=samsung+phone%7CMobiles&requestId=e4fe7f64-84da-4928-a0ae-4d6d82a0b636&as-searchtext=samsung%20phon\"\n",
    "phone_name=[]\n",
    "r=requests.get(url)\n",
    "htmlcontent=r.content\n",
    "soup=BeautifulSoup(htmlcontent,\"html.parser\")\n",
    "#print(soup)\n",
    "#soup.prettify\n",
    "names=soup.find_all(\"div\",class_=\"_4rR01T\")\n",
    "print(len(names))\n",
    "for i in range (0,len(names)):\n",
    "    phone_name.append(names[i].get_text())\n",
    "print(len(phone_name))\n",
    "price=[]   \n",
    "phone_price=soup.find_all(class_=\"_30jeq3 _1_WHN1\")\n",
    "for i in range (0,24):\n",
    "    price.append(phone_price[i].get_text())\n",
    "print(len(price))\n",
    "discount=[]   \n",
    "phone_discount=soup.find_all(class_=\"_3Ay6Sb\")\n",
    "for i in range (0,24):\n",
    "    discount.append(phone_discount[i].get_text())\n",
    "print(len(discount))\n",
    "rating=[]\n",
    "phone_rating=soup.find_all(class_=\"_3LWZlK\")\n",
    "for i in range (0,24):\n",
    "    rating.append(phone_rating[i].get_text())\n",
    "print(len(rating))\n",
    "\n"
   ]
  },
  {
   "cell_type": "code",
   "execution_count": 4,
   "id": "ac3c00ef",
   "metadata": {},
   "outputs": [
    {
     "ename": "ValueError",
     "evalue": "All arrays must be of the same length",
     "output_type": "error",
     "traceback": [
      "\u001b[1;31m---------------------------------------------------------------------------\u001b[0m",
      "\u001b[1;31mValueError\u001b[0m                                Traceback (most recent call last)",
      "Cell \u001b[1;32mIn[4], line 2\u001b[0m\n\u001b[0;32m      1\u001b[0m \u001b[38;5;28;01mimport\u001b[39;00m \u001b[38;5;21;01mpandas\u001b[39;00m \u001b[38;5;28;01mas\u001b[39;00m \u001b[38;5;21;01mpd\u001b[39;00m\n\u001b[1;32m----> 2\u001b[0m samsung_mobile\u001b[38;5;241m=\u001b[39mpd\u001b[38;5;241m.\u001b[39mDataFrame({\u001b[38;5;124m\"\u001b[39m\u001b[38;5;124mphone_name\u001b[39m\u001b[38;5;124m\"\u001b[39m:phone_name,\u001b[38;5;124m\"\u001b[39m\u001b[38;5;124mprice\u001b[39m\u001b[38;5;124m\"\u001b[39m:price,\u001b[38;5;124m\"\u001b[39m\u001b[38;5;124mphone_discount\u001b[39m\u001b[38;5;124m\"\u001b[39m:phone_discount,\u001b[38;5;124m\"\u001b[39m\u001b[38;5;124mrating\u001b[39m\u001b[38;5;124m\"\u001b[39m:rating})\n\u001b[0;32m      3\u001b[0m \u001b[38;5;28mprint\u001b[39m(samsung_mobile)\n",
      "File \u001b[1;32m~\\anaconda3\\Lib\\site-packages\\pandas\\core\\frame.py:664\u001b[0m, in \u001b[0;36mDataFrame.__init__\u001b[1;34m(self, data, index, columns, dtype, copy)\u001b[0m\n\u001b[0;32m    658\u001b[0m     mgr \u001b[38;5;241m=\u001b[39m \u001b[38;5;28mself\u001b[39m\u001b[38;5;241m.\u001b[39m_init_mgr(\n\u001b[0;32m    659\u001b[0m         data, axes\u001b[38;5;241m=\u001b[39m{\u001b[38;5;124m\"\u001b[39m\u001b[38;5;124mindex\u001b[39m\u001b[38;5;124m\"\u001b[39m: index, \u001b[38;5;124m\"\u001b[39m\u001b[38;5;124mcolumns\u001b[39m\u001b[38;5;124m\"\u001b[39m: columns}, dtype\u001b[38;5;241m=\u001b[39mdtype, copy\u001b[38;5;241m=\u001b[39mcopy\n\u001b[0;32m    660\u001b[0m     )\n\u001b[0;32m    662\u001b[0m \u001b[38;5;28;01melif\u001b[39;00m \u001b[38;5;28misinstance\u001b[39m(data, \u001b[38;5;28mdict\u001b[39m):\n\u001b[0;32m    663\u001b[0m     \u001b[38;5;66;03m# GH#38939 de facto copy defaults to False only in non-dict cases\u001b[39;00m\n\u001b[1;32m--> 664\u001b[0m     mgr \u001b[38;5;241m=\u001b[39m dict_to_mgr(data, index, columns, dtype\u001b[38;5;241m=\u001b[39mdtype, copy\u001b[38;5;241m=\u001b[39mcopy, typ\u001b[38;5;241m=\u001b[39mmanager)\n\u001b[0;32m    665\u001b[0m \u001b[38;5;28;01melif\u001b[39;00m \u001b[38;5;28misinstance\u001b[39m(data, ma\u001b[38;5;241m.\u001b[39mMaskedArray):\n\u001b[0;32m    666\u001b[0m     \u001b[38;5;28;01mimport\u001b[39;00m \u001b[38;5;21;01mnumpy\u001b[39;00m\u001b[38;5;21;01m.\u001b[39;00m\u001b[38;5;21;01mma\u001b[39;00m\u001b[38;5;21;01m.\u001b[39;00m\u001b[38;5;21;01mmrecords\u001b[39;00m \u001b[38;5;28;01mas\u001b[39;00m \u001b[38;5;21;01mmrecords\u001b[39;00m\n",
      "File \u001b[1;32m~\\anaconda3\\Lib\\site-packages\\pandas\\core\\internals\\construction.py:493\u001b[0m, in \u001b[0;36mdict_to_mgr\u001b[1;34m(data, index, columns, dtype, typ, copy)\u001b[0m\n\u001b[0;32m    489\u001b[0m     \u001b[38;5;28;01melse\u001b[39;00m:\n\u001b[0;32m    490\u001b[0m         \u001b[38;5;66;03m# dtype check to exclude e.g. range objects, scalars\u001b[39;00m\n\u001b[0;32m    491\u001b[0m         arrays \u001b[38;5;241m=\u001b[39m [x\u001b[38;5;241m.\u001b[39mcopy() \u001b[38;5;28;01mif\u001b[39;00m \u001b[38;5;28mhasattr\u001b[39m(x, \u001b[38;5;124m\"\u001b[39m\u001b[38;5;124mdtype\u001b[39m\u001b[38;5;124m\"\u001b[39m) \u001b[38;5;28;01melse\u001b[39;00m x \u001b[38;5;28;01mfor\u001b[39;00m x \u001b[38;5;129;01min\u001b[39;00m arrays]\n\u001b[1;32m--> 493\u001b[0m \u001b[38;5;28;01mreturn\u001b[39;00m arrays_to_mgr(arrays, columns, index, dtype\u001b[38;5;241m=\u001b[39mdtype, typ\u001b[38;5;241m=\u001b[39mtyp, consolidate\u001b[38;5;241m=\u001b[39mcopy)\n",
      "File \u001b[1;32m~\\anaconda3\\Lib\\site-packages\\pandas\\core\\internals\\construction.py:118\u001b[0m, in \u001b[0;36marrays_to_mgr\u001b[1;34m(arrays, columns, index, dtype, verify_integrity, typ, consolidate)\u001b[0m\n\u001b[0;32m    115\u001b[0m \u001b[38;5;28;01mif\u001b[39;00m verify_integrity:\n\u001b[0;32m    116\u001b[0m     \u001b[38;5;66;03m# figure out the index, if necessary\u001b[39;00m\n\u001b[0;32m    117\u001b[0m     \u001b[38;5;28;01mif\u001b[39;00m index \u001b[38;5;129;01mis\u001b[39;00m \u001b[38;5;28;01mNone\u001b[39;00m:\n\u001b[1;32m--> 118\u001b[0m         index \u001b[38;5;241m=\u001b[39m _extract_index(arrays)\n\u001b[0;32m    119\u001b[0m     \u001b[38;5;28;01melse\u001b[39;00m:\n\u001b[0;32m    120\u001b[0m         index \u001b[38;5;241m=\u001b[39m ensure_index(index)\n",
      "File \u001b[1;32m~\\anaconda3\\Lib\\site-packages\\pandas\\core\\internals\\construction.py:666\u001b[0m, in \u001b[0;36m_extract_index\u001b[1;34m(data)\u001b[0m\n\u001b[0;32m    664\u001b[0m lengths \u001b[38;5;241m=\u001b[39m \u001b[38;5;28mlist\u001b[39m(\u001b[38;5;28mset\u001b[39m(raw_lengths))\n\u001b[0;32m    665\u001b[0m \u001b[38;5;28;01mif\u001b[39;00m \u001b[38;5;28mlen\u001b[39m(lengths) \u001b[38;5;241m>\u001b[39m \u001b[38;5;241m1\u001b[39m:\n\u001b[1;32m--> 666\u001b[0m     \u001b[38;5;28;01mraise\u001b[39;00m \u001b[38;5;167;01mValueError\u001b[39;00m(\u001b[38;5;124m\"\u001b[39m\u001b[38;5;124mAll arrays must be of the same length\u001b[39m\u001b[38;5;124m\"\u001b[39m)\n\u001b[0;32m    668\u001b[0m \u001b[38;5;28;01mif\u001b[39;00m have_dicts:\n\u001b[0;32m    669\u001b[0m     \u001b[38;5;28;01mraise\u001b[39;00m \u001b[38;5;167;01mValueError\u001b[39;00m(\n\u001b[0;32m    670\u001b[0m         \u001b[38;5;124m\"\u001b[39m\u001b[38;5;124mMixing dicts with non-Series may lead to ambiguous ordering.\u001b[39m\u001b[38;5;124m\"\u001b[39m\n\u001b[0;32m    671\u001b[0m     )\n",
      "\u001b[1;31mValueError\u001b[0m: All arrays must be of the same length"
     ]
    }
   ],
   "source": [
    "import pandas as pd\n",
    "samsung_mobile=pd.DataFrame({\"phone_name\":phone_name,\"price\":price,\"phone_discount\":phone_discount,\"rating\":rating})\n",
    "print(samsung_mobile)"
   ]
  },
  {
   "cell_type": "code",
   "execution_count": 3,
   "id": "73a5c91d",
   "metadata": {},
   "outputs": [
    {
     "data": {
      "text/plain": [
       "'C:\\\\Users\\\\hp'"
      ]
     },
     "execution_count": 3,
     "metadata": {},
     "output_type": "execute_result"
    }
   ],
   "source": [
    "import os \n",
    "os.getcwd()"
   ]
  },
  {
   "cell_type": "code",
   "execution_count": 7,
   "id": "4a2f41df",
   "metadata": {},
   "outputs": [],
   "source": [
    "samsung_mobile.to_csv(\"samsung phone names and prices.csv\",index= False)"
   ]
  },
  {
   "cell_type": "code",
   "execution_count": 8,
   "id": "85b8c091",
   "metadata": {},
   "outputs": [
    {
     "name": "stdout",
     "output_type": "stream",
     "text": [
      "                                       phone_name    price\n",
      "0      SAMSUNG Galaxy F13 (Waterfall Blue, 64 GB)  ₹10,999\n",
      "1                            SAMSUNG Guru Music 2   ₹2,880\n",
      "2                            SAMSUNG Guru Music 2   ₹2,890\n",
      "3   SAMSUNG Galaxy F14 5G (B.A.E. Purple, 128 GB)  ₹14,990\n",
      "4      SAMSUNG Galaxy F13 (Nightsky Green, 64 GB)  ₹10,999\n",
      "5      SAMSUNG Galaxy M14 5G (Icy Silver, 128 GB)  ₹15,045\n",
      "6       SAMSUNG Galaxy F23 5G (Aqua Blue, 128 GB)  ₹16,999\n",
      "7       SAMSUNG Galaxy F14 5G (OMG Black, 128 GB)  ₹14,990\n",
      "8      SAMSUNG Galaxy M14 5G (Berry Blue, 128 GB)  ₹14,795\n",
      "9                            SAMSUNG Guru Music 2   ₹2,499\n",
      "10     SAMSUNG Galaxy M14 5G (ICY Silver, 128 GB)  ₹14,128\n",
      "11   SAMSUNG Galaxy F23 5G (Forest Green, 128 GB)  ₹16,999\n",
      "12                           SAMSUNG Guru Music 2   ₹2,450\n",
      "13    SAMSUNG Galaxy F13 (Waterfall Blue, 128 GB)  ₹11,999\n",
      "14  SAMSUNG Galaxy F14 5G (B.A.E. Purple, 128 GB)  ₹13,990\n",
      "15     SAMSUNG Galaxy M14 5G (Smoky Teal, 128 GB)  ₹13,849\n",
      "16      SAMSUNG Galaxy F14 5G (OMG Black, 128 GB)  ₹13,990\n",
      "17          SAMSUNG Galaxy M04 (Dark Blue, 64 GB)   ₹8,118\n",
      "18     SAMSUNG Galaxy F14 5G (GOAT Green, 128 GB)  ₹14,990\n",
      "19        SAMSUNG Galaxy M04 (Light Green, 64 GB)   ₹8,050\n",
      "20                           SAMSUNG Guru Music 2   ₹2,880\n",
      "21     SAMSUNG Galaxy F13 (Sunrise Copper, 64 GB)  ₹10,999\n",
      "22     SAMSUNG Galaxy M14 5G (Berry Blue, 128 GB)  ₹13,724\n",
      "23         SAMSUNG Galaxy F04 (Opal Green, 64 GB)   ₹8,499\n"
     ]
    }
   ],
   "source": [
    "mobile_info=pd.read_csv(\"samsung phone names and prices.csv\")\n",
    "print(mobile_info)"
   ]
  }
 ],
 "metadata": {
  "kernelspec": {
   "display_name": "Python 3 (ipykernel)",
   "language": "python",
   "name": "python3"
  },
  "language_info": {
   "codemirror_mode": {
    "name": "ipython",
    "version": 3
   },
   "file_extension": ".py",
   "mimetype": "text/x-python",
   "name": "python",
   "nbconvert_exporter": "python",
   "pygments_lexer": "ipython3",
   "version": "3.11.4"
  }
 },
 "nbformat": 4,
 "nbformat_minor": 5
}
